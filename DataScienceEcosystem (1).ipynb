{
 "cells": [
  {
   "cell_type": "markdown",
   "id": "e676457c-cd85-4230-9ad2-0a1455acbe5d",
   "metadata": {},
   "source": [
    "# Data Science Tools and Ecosystem\n"
   ]
  },
  {
   "cell_type": "markdown",
   "id": "1860c583-fa1e-4ddc-801e-5b26ee2e939b",
   "metadata": {},
   "source": [
    "In this notebook, Data Science Tools and Ecosystem are summarized.\n"
   ]
  },
  {
   "cell_type": "markdown",
   "id": "f62267fa-eee8-4f0d-a6a1-4acfadf67aea",
   "metadata": {},
   "source": [
    "**Listar lenguajes populares para Ciencia de Datos**\n",
    "- Lenguajes populares\n",
    "- Librerías principales\n",
    "- Herramientas de código abierto\n",
    "- Ejemplos de código en Python"
   ]
  },
  {
   "cell_type": "markdown",
   "id": "635f217b-de8a-464e-89a8-70328be2d92f",
   "metadata": {},
   "source": [
    "## Autor\n",
    "Iván Fernando Hernández Ceseña"
   ]
  },
  {
   "cell_type": "markdown",
   "id": "062fa135-1143-4f8c-a6ae-d6116dbb9dbf",
   "metadata": {},
   "source": [
    "### Some of the popular languages that Data Scientists use are:\n",
    "1. Python\n",
    "2. R\n",
    "3. Scala"
   ]
  },
  {
   "cell_type": "markdown",
   "id": "8a4e2094-e70a-4cdd-91d9-7c062808f695",
   "metadata": {},
   "source": [
    "### Some of the commonly used libraries used by Data Scientists include:\n",
    "1. SciPy\n",
    "2. Tensolflow\n",
    "3. Pandas\n",
    "4. NumPy"
   ]
  },
  {
   "cell_type": "markdown",
   "id": "72bd4036-d7bd-4857-a372-361a4a4a6019",
   "metadata": {},
   "source": [
    "|Tool|\n",
    "|----|\n",
    "|Jupyter|\n",
    "|Git|\n",
    "|R|\n",
    "|Python|"
   ]
  },
  {
   "cell_type": "markdown",
   "id": "11e37cd8-6fdf-4989-bc7b-02ea9d9e505b",
   "metadata": {},
   "source": [
    "### Below are a few examples of evaluating arithmetic expressions in Python\n"
   ]
  },
  {
   "cell_type": "markdown",
   "id": "56a8d5dd-c189-4005-acdf-e40dd5444be3",
   "metadata": {},
   "source": [
    "esta es una expresión aritmética simple para luego agregar números enteros"
   ]
  },
  {
   "cell_type": "code",
   "execution_count": 1,
   "id": "a8bf7cc5-3814-477b-a578-92619518d127",
   "metadata": {},
   "outputs": [
    {
     "data": {
      "text/plain": [
       "17"
      ]
     },
     "execution_count": 1,
     "metadata": {},
     "output_type": "execute_result"
    }
   ],
   "source": [
    "(3*4)+5"
   ]
  },
  {
   "cell_type": "markdown",
   "id": "e3bb076f-6f73-4150-8f7d-b1e34d628dc8",
   "metadata": {},
   "source": [
    "Esto convertirá 200 minutos en horas buceando en 60"
   ]
  },
  {
   "cell_type": "code",
   "execution_count": 3,
   "id": "3d9e12c9-709d-4b2d-a594-f98a79ac52f5",
   "metadata": {},
   "outputs": [
    {
     "data": {
      "text/plain": [
       "3"
      ]
     },
     "execution_count": 3,
     "metadata": {},
     "output_type": "execute_result"
    }
   ],
   "source": [
    "200//60"
   ]
  }
 ],
 "metadata": {
  "kernelspec": {
   "display_name": "Python [conda env:base] *",
   "language": "python",
   "name": "conda-base-py"
  },
  "language_info": {
   "codemirror_mode": {
    "name": "ipython",
    "version": 3
   },
   "file_extension": ".py",
   "mimetype": "text/x-python",
   "name": "python",
   "nbconvert_exporter": "python",
   "pygments_lexer": "ipython3",
   "version": "3.11.4"
  }
 },
 "nbformat": 4,
 "nbformat_minor": 5
}
